{
 "cells": [
  {
   "cell_type": "code",
   "execution_count": 1,
   "metadata": {},
   "outputs": [],
   "source": [
    "import pandas as pd\n",
    "import numpy as np"
   ]
  },
  {
   "cell_type": "code",
   "execution_count": 4,
   "metadata": {},
   "outputs": [
    {
     "name": "stdout",
     "output_type": "stream",
     "text": [
      "   Age  Affordability  Insurance\n",
      "0   64              0          0\n",
      "1   34              0          0\n",
      "2   56              1          1\n",
      "3   60              0          0\n",
      "4   22              1          1\n"
     ]
    }
   ],
   "source": [
    "n_rows = 100\n",
    "\n",
    "ages = np.random.randint(22, 81, size=n_rows)\n",
    "\n",
    "affordability = np.random.choice([0, 1], size=n_rows)\n",
    "\n",
    "insurance = np.where(affordability == 1, 1, 0)\n",
    "\n",
    "data = pd.DataFrame({\n",
    "    'Age': ages,\n",
    "    'Affordability': affordability,\n",
    "    'Insurance': insurance\n",
    "})\n",
    "\n",
    "print(data.head())"
   ]
  },
  {
   "cell_type": "code",
   "execution_count": null,
   "metadata": {},
   "outputs": [],
   "source": []
  },
  {
   "cell_type": "code",
   "execution_count": null,
   "metadata": {},
   "outputs": [],
   "source": []
  }
 ],
 "metadata": {
  "kernelspec": {
   "display_name": "new_env",
   "language": "python",
   "name": "python3"
  },
  "language_info": {
   "codemirror_mode": {
    "name": "ipython",
    "version": 3
   },
   "file_extension": ".py",
   "mimetype": "text/x-python",
   "name": "python",
   "nbconvert_exporter": "python",
   "pygments_lexer": "ipython3",
   "version": "3.12.4"
  }
 },
 "nbformat": 4,
 "nbformat_minor": 2
}
